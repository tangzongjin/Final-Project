{
 "cells": [
  {
   "cell_type": "markdown",
   "metadata": {},
   "source": [
    "# Tech Fundamentals of Business Analytics\n",
    "\"I pledge under the RPI honor code that I have completed this work on my own.\" \n",
    "\n",
    "(CHANGRUO ZHAO)\n"
   ]
  },
  {
   "cell_type": "markdown",
   "metadata": {},
   "source": [
    "## Exploratory Data Analysis\n",
    "(30 minute estimate)\n",
    "\n",
    "The data directory includes a wide variety of data related to health care.  \n",
    "    \n",
    "(1. 10 points) Pick a numeric variable from the data which seems interesting.  Analyze the mean of that variable for both MA and NY.  \n",
    "\n",
    "\n",
    "(1a. 5 points)   Provide the code to perform the operations above. \n",
    "\n",
    "\n",
    "(1b. 5 points)  Provide an interpretation of your findings.  What does what you found in 1a mean?  If you couldn't get 1a to work then you can interpret it both ways. \n"
   ]
  },
  {
   "cell_type": "code",
   "execution_count": 7,
   "metadata": {},
   "outputs": [
    {
     "data": {
      "text/html": [
       "<div>\n",
       "<style scoped>\n",
       "    .dataframe tbody tr th:only-of-type {\n",
       "        vertical-align: middle;\n",
       "    }\n",
       "\n",
       "    .dataframe tbody tr th {\n",
       "        vertical-align: top;\n",
       "    }\n",
       "\n",
       "    .dataframe thead th {\n",
       "        text-align: right;\n",
       "    }\n",
       "</style>\n",
       "<table border=\"1\" class=\"dataframe\">\n",
       "  <thead>\n",
       "    <tr style=\"text-align: right;\">\n",
       "      <th></th>\n",
       "      <th>ID</th>\n",
       "      <th>START</th>\n",
       "      <th>STOP</th>\n",
       "      <th>PATIENT</th>\n",
       "      <th>ENCOUNTERCLASS</th>\n",
       "      <th>CODE</th>\n",
       "      <th>DESCRIPTION</th>\n",
       "      <th>COST</th>\n",
       "      <th>REASONCODE</th>\n",
       "      <th>REASONDESCRIPTION</th>\n",
       "    </tr>\n",
       "  </thead>\n",
       "  <tbody>\n",
       "    <tr>\n",
       "      <th>0</th>\n",
       "      <td>31c87413-3974-473c-9754-c7114b8978f6</td>\n",
       "      <td>2009-01-25T13:47:49Z</td>\n",
       "      <td>2009-01-25T14:17:49Z</td>\n",
       "      <td>628a3ea6-cfb4-4e7d-8e6b-a5f62c6e8883</td>\n",
       "      <td>wellness</td>\n",
       "      <td>185349003</td>\n",
       "      <td>Encounter for check up (procedure)</td>\n",
       "      <td>129.16</td>\n",
       "      <td>NaN</td>\n",
       "      <td>NaN</td>\n",
       "    </tr>\n",
       "    <tr>\n",
       "      <th>1</th>\n",
       "      <td>6c9857c1-7ceb-4963-b5fb-7e49042c2070</td>\n",
       "      <td>2011-10-04T06:18:31Z</td>\n",
       "      <td>2011-10-04T06:33:31Z</td>\n",
       "      <td>be6fcf98-1120-4e61-8c47-053a90dbb0fb</td>\n",
       "      <td>wellness</td>\n",
       "      <td>185349003</td>\n",
       "      <td>Encounter for check up (procedure)</td>\n",
       "      <td>129.16</td>\n",
       "      <td>NaN</td>\n",
       "      <td>NaN</td>\n",
       "    </tr>\n",
       "    <tr>\n",
       "      <th>2</th>\n",
       "      <td>010bec07-df11-4d85-9601-8553997346d2</td>\n",
       "      <td>2010-10-03T22:27:10Z</td>\n",
       "      <td>2010-10-03T22:42:10Z</td>\n",
       "      <td>7a463c11-6f37-4ace-a7e9-4ddb1f991ab8</td>\n",
       "      <td>wellness</td>\n",
       "      <td>185349003</td>\n",
       "      <td>Encounter for check up (procedure)</td>\n",
       "      <td>129.16</td>\n",
       "      <td>NaN</td>\n",
       "      <td>NaN</td>\n",
       "    </tr>\n",
       "    <tr>\n",
       "      <th>3</th>\n",
       "      <td>ef25c90c-535a-460d-bc7d-fa0b3a7cf772</td>\n",
       "      <td>2009-08-23T06:24:25Z</td>\n",
       "      <td>2009-08-23T06:49:25Z</td>\n",
       "      <td>09e253b4-5aaa-42a0-8f4f-a521ac0254b5</td>\n",
       "      <td>ambulatory</td>\n",
       "      <td>185345009</td>\n",
       "      <td>Encounter for symptom</td>\n",
       "      <td>129.16</td>\n",
       "      <td>10509002.0</td>\n",
       "      <td>Acute bronchitis (disorder)</td>\n",
       "    </tr>\n",
       "    <tr>\n",
       "      <th>4</th>\n",
       "      <td>4c72baa9-14bc-4ca8-a833-c8244603744c</td>\n",
       "      <td>2009-09-17T20:18:22Z</td>\n",
       "      <td>2009-09-17T20:48:22Z</td>\n",
       "      <td>0ab6aa30-dfd4-4955-93b5-f05c9613bc70</td>\n",
       "      <td>wellness</td>\n",
       "      <td>185349003</td>\n",
       "      <td>Encounter for check up (procedure)</td>\n",
       "      <td>129.16</td>\n",
       "      <td>NaN</td>\n",
       "      <td>NaN</td>\n",
       "    </tr>\n",
       "  </tbody>\n",
       "</table>\n",
       "</div>"
      ],
      "text/plain": [
       "                                     ID                 START  \\\n",
       "0  31c87413-3974-473c-9754-c7114b8978f6  2009-01-25T13:47:49Z   \n",
       "1  6c9857c1-7ceb-4963-b5fb-7e49042c2070  2011-10-04T06:18:31Z   \n",
       "2  010bec07-df11-4d85-9601-8553997346d2  2010-10-03T22:27:10Z   \n",
       "3  ef25c90c-535a-460d-bc7d-fa0b3a7cf772  2009-08-23T06:24:25Z   \n",
       "4  4c72baa9-14bc-4ca8-a833-c8244603744c  2009-09-17T20:18:22Z   \n",
       "\n",
       "                   STOP                               PATIENT ENCOUNTERCLASS  \\\n",
       "0  2009-01-25T14:17:49Z  628a3ea6-cfb4-4e7d-8e6b-a5f62c6e8883       wellness   \n",
       "1  2011-10-04T06:33:31Z  be6fcf98-1120-4e61-8c47-053a90dbb0fb       wellness   \n",
       "2  2010-10-03T22:42:10Z  7a463c11-6f37-4ace-a7e9-4ddb1f991ab8       wellness   \n",
       "3  2009-08-23T06:49:25Z  09e253b4-5aaa-42a0-8f4f-a521ac0254b5     ambulatory   \n",
       "4  2009-09-17T20:48:22Z  0ab6aa30-dfd4-4955-93b5-f05c9613bc70       wellness   \n",
       "\n",
       "        CODE                         DESCRIPTION    COST  REASONCODE  \\\n",
       "0  185349003  Encounter for check up (procedure)  129.16         NaN   \n",
       "1  185349003  Encounter for check up (procedure)  129.16         NaN   \n",
       "2  185349003  Encounter for check up (procedure)  129.16         NaN   \n",
       "3  185345009               Encounter for symptom  129.16  10509002.0   \n",
       "4  185349003  Encounter for check up (procedure)  129.16         NaN   \n",
       "\n",
       "             REASONDESCRIPTION  \n",
       "0                          NaN  \n",
       "1                          NaN  \n",
       "2                          NaN  \n",
       "3  Acute bronchitis (disorder)  \n",
       "4                          NaN  "
      ]
     },
     "execution_count": 7,
     "metadata": {},
     "output_type": "execute_result"
    }
   ],
   "source": [
    "#1a insert your code\n",
    "import numpy as np\n",
    "import pandas as pd\n",
    "\n",
    "encounters_ma=pd.read_csv('data/ma/encounters.csv')\n",
    "encounters_ny=pd.read_csv('data/ny/encounters.csv')\n",
    "encounters_ma.head()\n"
   ]
  },
  {
   "cell_type": "code",
   "execution_count": 8,
   "metadata": {},
   "outputs": [
    {
     "data": {
      "text/html": [
       "<div>\n",
       "<style scoped>\n",
       "    .dataframe tbody tr th:only-of-type {\n",
       "        vertical-align: middle;\n",
       "    }\n",
       "\n",
       "    .dataframe tbody tr th {\n",
       "        vertical-align: top;\n",
       "    }\n",
       "\n",
       "    .dataframe thead th {\n",
       "        text-align: right;\n",
       "    }\n",
       "</style>\n",
       "<table border=\"1\" class=\"dataframe\">\n",
       "  <thead>\n",
       "    <tr style=\"text-align: right;\">\n",
       "      <th></th>\n",
       "      <th>ID</th>\n",
       "      <th>START</th>\n",
       "      <th>STOP</th>\n",
       "      <th>PATIENT</th>\n",
       "      <th>ENCOUNTERCLASS</th>\n",
       "      <th>CODE</th>\n",
       "      <th>DESCRIPTION</th>\n",
       "      <th>COST</th>\n",
       "      <th>REASONCODE</th>\n",
       "      <th>REASONDESCRIPTION</th>\n",
       "    </tr>\n",
       "  </thead>\n",
       "  <tbody>\n",
       "    <tr>\n",
       "      <th>0</th>\n",
       "      <td>7e2993fc-b066-49fb-b6bc-3e328a8558ba</td>\n",
       "      <td>2009-09-05T10:35:28Z</td>\n",
       "      <td>2009-09-05T10:50:28Z</td>\n",
       "      <td>b510d9b1-7129-4f93-91b8-c3cf63ab43cb</td>\n",
       "      <td>wellness</td>\n",
       "      <td>185349003</td>\n",
       "      <td>Encounter for check up (procedure)</td>\n",
       "      <td>115.33</td>\n",
       "      <td>NaN</td>\n",
       "      <td>NaN</td>\n",
       "    </tr>\n",
       "    <tr>\n",
       "      <th>1</th>\n",
       "      <td>ceb95706-b465-49c6-9ee6-8cedd56deb5a</td>\n",
       "      <td>2009-01-25T13:51:01Z</td>\n",
       "      <td>2009-01-25T14:21:01Z</td>\n",
       "      <td>fd4d14f6-e359-4de1-806b-098df9117858</td>\n",
       "      <td>wellness</td>\n",
       "      <td>185349003</td>\n",
       "      <td>Encounter for check up (procedure)</td>\n",
       "      <td>115.33</td>\n",
       "      <td>NaN</td>\n",
       "      <td>NaN</td>\n",
       "    </tr>\n",
       "    <tr>\n",
       "      <th>2</th>\n",
       "      <td>8b915a30-c122-46c8-af10-a186995a5143</td>\n",
       "      <td>2009-09-17T20:21:34Z</td>\n",
       "      <td>2009-09-17T20:51:34Z</td>\n",
       "      <td>b0495467-eab8-42bf-a75f-66c24d627ac7</td>\n",
       "      <td>wellness</td>\n",
       "      <td>185349003</td>\n",
       "      <td>Encounter for check up (procedure)</td>\n",
       "      <td>115.33</td>\n",
       "      <td>NaN</td>\n",
       "      <td>NaN</td>\n",
       "    </tr>\n",
       "    <tr>\n",
       "      <th>3</th>\n",
       "      <td>4033409f-9766-40cc-a997-6a8b29ce0532</td>\n",
       "      <td>1992-11-25T06:27:38Z</td>\n",
       "      <td>1992-11-25T06:42:38Z</td>\n",
       "      <td>06386858-9448-45fd-9e99-5ba281281d19</td>\n",
       "      <td>wellness</td>\n",
       "      <td>185349003</td>\n",
       "      <td>Encounter for check up (procedure)</td>\n",
       "      <td>115.33</td>\n",
       "      <td>NaN</td>\n",
       "      <td>NaN</td>\n",
       "    </tr>\n",
       "    <tr>\n",
       "      <th>4</th>\n",
       "      <td>ce05e4d6-b1a2-4cfb-80dd-07e3735aa243</td>\n",
       "      <td>2011-10-04T06:21:43Z</td>\n",
       "      <td>2011-10-04T06:51:43Z</td>\n",
       "      <td>f7dc6171-7417-47b7-b790-4a3a74fb838f</td>\n",
       "      <td>wellness</td>\n",
       "      <td>185349003</td>\n",
       "      <td>Encounter for check up (procedure)</td>\n",
       "      <td>115.33</td>\n",
       "      <td>NaN</td>\n",
       "      <td>NaN</td>\n",
       "    </tr>\n",
       "  </tbody>\n",
       "</table>\n",
       "</div>"
      ],
      "text/plain": [
       "                                     ID                 START  \\\n",
       "0  7e2993fc-b066-49fb-b6bc-3e328a8558ba  2009-09-05T10:35:28Z   \n",
       "1  ceb95706-b465-49c6-9ee6-8cedd56deb5a  2009-01-25T13:51:01Z   \n",
       "2  8b915a30-c122-46c8-af10-a186995a5143  2009-09-17T20:21:34Z   \n",
       "3  4033409f-9766-40cc-a997-6a8b29ce0532  1992-11-25T06:27:38Z   \n",
       "4  ce05e4d6-b1a2-4cfb-80dd-07e3735aa243  2011-10-04T06:21:43Z   \n",
       "\n",
       "                   STOP                               PATIENT ENCOUNTERCLASS  \\\n",
       "0  2009-09-05T10:50:28Z  b510d9b1-7129-4f93-91b8-c3cf63ab43cb       wellness   \n",
       "1  2009-01-25T14:21:01Z  fd4d14f6-e359-4de1-806b-098df9117858       wellness   \n",
       "2  2009-09-17T20:51:34Z  b0495467-eab8-42bf-a75f-66c24d627ac7       wellness   \n",
       "3  1992-11-25T06:42:38Z  06386858-9448-45fd-9e99-5ba281281d19       wellness   \n",
       "4  2011-10-04T06:51:43Z  f7dc6171-7417-47b7-b790-4a3a74fb838f       wellness   \n",
       "\n",
       "        CODE                         DESCRIPTION    COST  REASONCODE  \\\n",
       "0  185349003  Encounter for check up (procedure)  115.33         NaN   \n",
       "1  185349003  Encounter for check up (procedure)  115.33         NaN   \n",
       "2  185349003  Encounter for check up (procedure)  115.33         NaN   \n",
       "3  185349003  Encounter for check up (procedure)  115.33         NaN   \n",
       "4  185349003  Encounter for check up (procedure)  115.33         NaN   \n",
       "\n",
       "  REASONDESCRIPTION  \n",
       "0               NaN  \n",
       "1               NaN  \n",
       "2               NaN  \n",
       "3               NaN  \n",
       "4               NaN  "
      ]
     },
     "execution_count": 8,
     "metadata": {},
     "output_type": "execute_result"
    }
   ],
   "source": [
    "encounters_ny.head()"
   ]
  },
  {
   "cell_type": "code",
   "execution_count": 10,
   "metadata": {},
   "outputs": [
    {
     "name": "stdout",
     "output_type": "stream",
     "text": [
      "Cost mean for MA: 128.50160242024606\n",
      "Cost mean for NY: 114.73808598704623\n"
     ]
    }
   ],
   "source": [
    "encounters_ma_costmean=encounters_ma['COST'].mean()\n",
    "encounters_ny_costmean=encounters_ny['COST'].mean()\n",
    "\n",
    "print('Cost mean for MA:', encounters_ma_costmean)\n",
    "print('Cost mean for NY:', encounters_ny_costmean)"
   ]
  },
  {
   "cell_type": "markdown",
   "metadata": {},
   "source": [
    "1b. (insert your answer)\n",
    "Interpretation: The average cost for patient for medication in  MA is 128.5, the average cost for patient for medication in NY is 114.74.\n",
    "The average cost in MA is higher than that in NY.\n"
   ]
  },
  {
   "cell_type": "markdown",
   "metadata": {},
   "source": [
    "## Visualization\n",
    "(30 minute estimate)\n",
    "\n",
    "The `encounters.csv` dataframe has the `COST` variable, which is a real concern when it comes to hospitals, lawmakers, etc. \n",
    "\n",
    "(2. 10 points) Create a graph of the `COST` on one axis and the `ENCOUNTERCLASS`  on a second axis for both NY and MA (can do in different graphs). \n",
    "\n",
    "(2a. 5 points)   Provide the code to perform the operations above. \n",
    "\n",
    "(2b. 5 points)  Provide an interpretation of your findings.  What does what you found in 2a mean?  If you couldn't get 2a to work what is the data likely to show. \n",
    "\n",
    "\n"
   ]
  },
  {
   "cell_type": "code",
   "execution_count": 15,
   "metadata": {},
   "outputs": [
    {
     "name": "stderr",
     "output_type": "stream",
     "text": [
      "/anaconda3/lib/python3.6/site-packages/scipy/stats/stats.py:1713: FutureWarning: Using a non-tuple sequence for multidimensional indexing is deprecated; use `arr[tuple(seq)]` instead of `arr[seq]`. In the future this will be interpreted as an array index, `arr[np.array(seq)]`, which will result either in an error or a different result.\n",
      "  return np.add.reduce(sorted[indexer] * weights, axis=axis) / sumval\n"
     ]
    },
    {
     "data": {
      "text/plain": [
       "ENCOUNTERCLASS\n",
       "ambulatory    129.160000\n",
       "emergency     129.160000\n",
       "inpatient     106.186373\n",
       "outpatient    129.160000\n",
       "urgentcare    129.160000\n",
       "wellness      129.160000\n",
       "Name: COST, dtype: float64"
      ]
     },
     "execution_count": 15,
     "metadata": {},
     "output_type": "execute_result"
    },
    {
     "data": {
      "image/png": "[encoded data removed]",
      "text/plain": [
       "<Figure size 432x288 with 1 Axes>"
      ]
     },
     "metadata": {},
     "output_type": "display_data"
    }
   ],
   "source": [
    "#2a insert your code\n",
    "\n",
    "import matplotlib.pyplot as plt\n",
    "import seaborn as sns\n",
    "sns.barplot(encounters_ma['ENCOUNTERCLASS'], encounters_ma['COST'],color='yellow')\n",
    "encounters_ma.groupby('ENCOUNTERCLASS')['COST'].mean()\n"
   ]
  },
  {
   "cell_type": "code",
   "execution_count": 23,
   "metadata": {},
   "outputs": [
    {
     "name": "stderr",
     "output_type": "stream",
     "text": [
      "/anaconda3/lib/python3.6/site-packages/scipy/stats/stats.py:1713: FutureWarning: Using a non-tuple sequence for multidimensional indexing is deprecated; use `arr[tuple(seq)]` instead of `arr[seq]`. In the future this will be interpreted as an array index, `arr[np.array(seq)]`, which will result either in an error or a different result.\n",
      "  return np.add.reduce(sorted[indexer] * weights, axis=axis) / sumval\n"
     ]
    },
    {
     "data": {
      "text/plain": [
       "ENCOUNTERCLASS\n",
       "ambulatory    115.330000\n",
       "emergency     115.330000\n",
       "inpatient      96.805478\n",
       "outpatient    115.330000\n",
       "urgentcare    115.330000\n",
       "wellness      115.330000\n",
       "Name: COST, dtype: float64"
      ]
     },
     "execution_count": 23,
     "metadata": {},
     "output_type": "execute_result"
    },
    {
     "data": {
      "image/png": "[encoded data removed]",
      "text/plain": [
       "<Figure size 432x288 with 1 Axes>"
      ]
     },
     "metadata": {},
     "output_type": "display_data"
    }
   ],
   "source": [
    "sns.barplot(encounters_ny['ENCOUNTERCLASS'], encounters_ny['COST'],color='green')\n",
    "encounters_ny.groupby('ENCOUNTERCLASS')['COST'].mean()"
   ]
  },
  {
   "cell_type": "markdown",
   "metadata": {},
   "source": [
    "2b. (insert your answer)\n",
    "\n",
    "Interpretation: 2b.1 The two distribution looks alike but the average cost is different.\n",
    "2b.2 The average cost for wellness, ambulatory,urgentcare,emergency,outpatient in MA are the same with 130, average cost for inpatient in MA is about 106.18, lower than former five encounterclasses.\n",
    "2b.3 The average cost for wellness, ambulatory,urgentcare,emergency,outpatient in NY are the same with 115, average cost for inpatient in MA is about 96.81, lower than former five encounterclasses.\n",
    "2b.4 The average cost In MA is higher than average cost in NY for all encounterclasses."
   ]
  },
  {
   "cell_type": "markdown",
   "metadata": {},
   "source": [
    "## Join\n",
    "(30 minute estimate)\n",
    "\n",
    "The `encounters.csv` dataframe has the `Patient` variable, which is a foreign key to the `patients.csv`   \n",
    "\n",
    "(3. 5 points) Join the `encounters.csv` data with the `patient.csv` data into a new pandas dataframe and list the first several rows of the dataframe. \n",
    "\n",
    "*You need only do this for MA data*\n",
    "\n",
    "(3a. 5 points)   Provide the code to perform the operations above. \n",
    "\n"
   ]
  },
  {
   "cell_type": "code",
   "execution_count": 24,
   "metadata": {},
   "outputs": [
    {
     "data": {
      "text/html": [
       "<div>\n",
       "<style scoped>\n",
       "    .dataframe tbody tr th:only-of-type {\n",
       "        vertical-align: middle;\n",
       "    }\n",
       "\n",
       "    .dataframe tbody tr th {\n",
       "        vertical-align: top;\n",
       "    }\n",
       "\n",
       "    .dataframe thead th {\n",
       "        text-align: right;\n",
       "    }\n",
       "</style>\n",
       "<table border=\"1\" class=\"dataframe\">\n",
       "  <thead>\n",
       "    <tr style=\"text-align: right;\">\n",
       "      <th></th>\n",
       "      <th>ID_x</th>\n",
       "      <th>BIRTHDATE</th>\n",
       "      <th>DEATHDATE</th>\n",
       "      <th>SSN</th>\n",
       "      <th>DRIVERS</th>\n",
       "      <th>PASSPORT</th>\n",
       "      <th>PREFIX</th>\n",
       "      <th>FIRST</th>\n",
       "      <th>LAST</th>\n",
       "      <th>SUFFIX</th>\n",
       "      <th>...</th>\n",
       "      <th>ID_y</th>\n",
       "      <th>START</th>\n",
       "      <th>STOP</th>\n",
       "      <th>PATIENT</th>\n",
       "      <th>ENCOUNTERCLASS</th>\n",
       "      <th>CODE</th>\n",
       "      <th>DESCRIPTION</th>\n",
       "      <th>COST</th>\n",
       "      <th>REASONCODE</th>\n",
       "      <th>REASONDESCRIPTION</th>\n",
       "    </tr>\n",
       "  </thead>\n",
       "  <tbody>\n",
       "    <tr>\n",
       "      <th>0</th>\n",
       "      <td>09e253b4-5aaa-42a0-8f4f-a521ac0254b5</td>\n",
       "      <td>1975-04-01</td>\n",
       "      <td>NaN</td>\n",
       "      <td>999-63-1071</td>\n",
       "      <td>S99971086</td>\n",
       "      <td>X50936743X</td>\n",
       "      <td>Mr.</td>\n",
       "      <td>Salvador46</td>\n",
       "      <td>Roybal79</td>\n",
       "      <td>NaN</td>\n",
       "      <td>...</td>\n",
       "      <td>ef25c90c-535a-460d-bc7d-fa0b3a7cf772</td>\n",
       "      <td>2009-08-23T06:24:25Z</td>\n",
       "      <td>2009-08-23T06:49:25Z</td>\n",
       "      <td>09e253b4-5aaa-42a0-8f4f-a521ac0254b5</td>\n",
       "      <td>ambulatory</td>\n",
       "      <td>185345009</td>\n",
       "      <td>Encounter for symptom</td>\n",
       "      <td>129.16</td>\n",
       "      <td>10509002.0</td>\n",
       "      <td>Acute bronchitis (disorder)</td>\n",
       "    </tr>\n",
       "    <tr>\n",
       "      <th>1</th>\n",
       "      <td>09e253b4-5aaa-42a0-8f4f-a521ac0254b5</td>\n",
       "      <td>1975-04-01</td>\n",
       "      <td>NaN</td>\n",
       "      <td>999-63-1071</td>\n",
       "      <td>S99971086</td>\n",
       "      <td>X50936743X</td>\n",
       "      <td>Mr.</td>\n",
       "      <td>Salvador46</td>\n",
       "      <td>Roybal79</td>\n",
       "      <td>NaN</td>\n",
       "      <td>...</td>\n",
       "      <td>5984f509-ec2a-4915-9b0b-772b95ba9f7e</td>\n",
       "      <td>2009-09-01T06:24:25Z</td>\n",
       "      <td>2009-09-01T06:39:25Z</td>\n",
       "      <td>09e253b4-5aaa-42a0-8f4f-a521ac0254b5</td>\n",
       "      <td>urgentcare</td>\n",
       "      <td>371883000</td>\n",
       "      <td>Outpatient procedure (procedure)</td>\n",
       "      <td>129.16</td>\n",
       "      <td>NaN</td>\n",
       "      <td>NaN</td>\n",
       "    </tr>\n",
       "    <tr>\n",
       "      <th>2</th>\n",
       "      <td>09e253b4-5aaa-42a0-8f4f-a521ac0254b5</td>\n",
       "      <td>1975-04-01</td>\n",
       "      <td>NaN</td>\n",
       "      <td>999-63-1071</td>\n",
       "      <td>S99971086</td>\n",
       "      <td>X50936743X</td>\n",
       "      <td>Mr.</td>\n",
       "      <td>Salvador46</td>\n",
       "      <td>Roybal79</td>\n",
       "      <td>NaN</td>\n",
       "      <td>...</td>\n",
       "      <td>923e8869-4eb9-44a0-ba0a-2d5dfd29b7dc</td>\n",
       "      <td>2009-11-17T06:24:25Z</td>\n",
       "      <td>2009-11-17T06:39:25Z</td>\n",
       "      <td>09e253b4-5aaa-42a0-8f4f-a521ac0254b5</td>\n",
       "      <td>wellness</td>\n",
       "      <td>185349003</td>\n",
       "      <td>Encounter for check up (procedure)</td>\n",
       "      <td>129.16</td>\n",
       "      <td>NaN</td>\n",
       "      <td>NaN</td>\n",
       "    </tr>\n",
       "    <tr>\n",
       "      <th>3</th>\n",
       "      <td>09e253b4-5aaa-42a0-8f4f-a521ac0254b5</td>\n",
       "      <td>1975-04-01</td>\n",
       "      <td>NaN</td>\n",
       "      <td>999-63-1071</td>\n",
       "      <td>S99971086</td>\n",
       "      <td>X50936743X</td>\n",
       "      <td>Mr.</td>\n",
       "      <td>Salvador46</td>\n",
       "      <td>Roybal79</td>\n",
       "      <td>NaN</td>\n",
       "      <td>...</td>\n",
       "      <td>df6f2a12-5554-4ebc-9104-d37c9702fcda</td>\n",
       "      <td>2012-08-26T06:24:25Z</td>\n",
       "      <td>2012-08-26T06:39:25Z</td>\n",
       "      <td>09e253b4-5aaa-42a0-8f4f-a521ac0254b5</td>\n",
       "      <td>ambulatory</td>\n",
       "      <td>185345009</td>\n",
       "      <td>Encounter for symptom</td>\n",
       "      <td>129.16</td>\n",
       "      <td>195662009.0</td>\n",
       "      <td>Acute viral pharyngitis (disorder)</td>\n",
       "    </tr>\n",
       "    <tr>\n",
       "      <th>4</th>\n",
       "      <td>09e253b4-5aaa-42a0-8f4f-a521ac0254b5</td>\n",
       "      <td>1975-04-01</td>\n",
       "      <td>NaN</td>\n",
       "      <td>999-63-1071</td>\n",
       "      <td>S99971086</td>\n",
       "      <td>X50936743X</td>\n",
       "      <td>Mr.</td>\n",
       "      <td>Salvador46</td>\n",
       "      <td>Roybal79</td>\n",
       "      <td>NaN</td>\n",
       "      <td>...</td>\n",
       "      <td>e557a46f-f948-44bd-a223-4a61d067a827</td>\n",
       "      <td>2012-11-20T06:24:25Z</td>\n",
       "      <td>2012-11-20T06:54:25Z</td>\n",
       "      <td>09e253b4-5aaa-42a0-8f4f-a521ac0254b5</td>\n",
       "      <td>wellness</td>\n",
       "      <td>185349003</td>\n",
       "      <td>Encounter for check up (procedure)</td>\n",
       "      <td>129.16</td>\n",
       "      <td>NaN</td>\n",
       "      <td>NaN</td>\n",
       "    </tr>\n",
       "  </tbody>\n",
       "</table>\n",
       "<p>5 rows × 30 columns</p>\n",
       "</div>"
      ],
      "text/plain": [
       "                                   ID_x   BIRTHDATE DEATHDATE          SSN  \\\n",
       "0  09e253b4-5aaa-42a0-8f4f-a521ac0254b5  1975-04-01       NaN  999-63-1071   \n",
       "1  09e253b4-5aaa-42a0-8f4f-a521ac0254b5  1975-04-01       NaN  999-63-1071   \n",
       "2  09e253b4-5aaa-42a0-8f4f-a521ac0254b5  1975-04-01       NaN  999-63-1071   \n",
       "3  09e253b4-5aaa-42a0-8f4f-a521ac0254b5  1975-04-01       NaN  999-63-1071   \n",
       "4  09e253b4-5aaa-42a0-8f4f-a521ac0254b5  1975-04-01       NaN  999-63-1071   \n",
       "\n",
       "     DRIVERS    PASSPORT PREFIX       FIRST      LAST SUFFIX  \\\n",
       "0  S99971086  X50936743X    Mr.  Salvador46  Roybal79    NaN   \n",
       "1  S99971086  X50936743X    Mr.  Salvador46  Roybal79    NaN   \n",
       "2  S99971086  X50936743X    Mr.  Salvador46  Roybal79    NaN   \n",
       "3  S99971086  X50936743X    Mr.  Salvador46  Roybal79    NaN   \n",
       "4  S99971086  X50936743X    Mr.  Salvador46  Roybal79    NaN   \n",
       "\n",
       "                  ...                                                  ID_y  \\\n",
       "0                 ...                  ef25c90c-535a-460d-bc7d-fa0b3a7cf772   \n",
       "1                 ...                  5984f509-ec2a-4915-9b0b-772b95ba9f7e   \n",
       "2                 ...                  923e8869-4eb9-44a0-ba0a-2d5dfd29b7dc   \n",
       "3                 ...                  df6f2a12-5554-4ebc-9104-d37c9702fcda   \n",
       "4                 ...                  e557a46f-f948-44bd-a223-4a61d067a827   \n",
       "\n",
       "                  START                  STOP  \\\n",
       "0  2009-08-23T06:24:25Z  2009-08-23T06:49:25Z   \n",
       "1  2009-09-01T06:24:25Z  2009-09-01T06:39:25Z   \n",
       "2  2009-11-17T06:24:25Z  2009-11-17T06:39:25Z   \n",
       "3  2012-08-26T06:24:25Z  2012-08-26T06:39:25Z   \n",
       "4  2012-11-20T06:24:25Z  2012-11-20T06:54:25Z   \n",
       "\n",
       "                                PATIENT ENCOUNTERCLASS       CODE  \\\n",
       "0  09e253b4-5aaa-42a0-8f4f-a521ac0254b5     ambulatory  185345009   \n",
       "1  09e253b4-5aaa-42a0-8f4f-a521ac0254b5     urgentcare  371883000   \n",
       "2  09e253b4-5aaa-42a0-8f4f-a521ac0254b5       wellness  185349003   \n",
       "3  09e253b4-5aaa-42a0-8f4f-a521ac0254b5     ambulatory  185345009   \n",
       "4  09e253b4-5aaa-42a0-8f4f-a521ac0254b5       wellness  185349003   \n",
       "\n",
       "                          DESCRIPTION    COST   REASONCODE  \\\n",
       "0               Encounter for symptom  129.16   10509002.0   \n",
       "1    Outpatient procedure (procedure)  129.16          NaN   \n",
       "2  Encounter for check up (procedure)  129.16          NaN   \n",
       "3               Encounter for symptom  129.16  195662009.0   \n",
       "4  Encounter for check up (procedure)  129.16          NaN   \n",
       "\n",
       "                    REASONDESCRIPTION  \n",
       "0         Acute bronchitis (disorder)  \n",
       "1                                 NaN  \n",
       "2                                 NaN  \n",
       "3  Acute viral pharyngitis (disorder)  \n",
       "4                                 NaN  \n",
       "\n",
       "[5 rows x 30 columns]"
      ]
     },
     "execution_count": 24,
     "metadata": {},
     "output_type": "execute_result"
    }
   ],
   "source": [
    "#3a insert your code\n",
    "encounters_ma=pd.read_csv('data/ma/encounters.csv')\n",
    "patient_ma=pd.read_csv('data/ma/patients.csv')\n",
    "\n",
    "merge=pd.merge(patient_ma,encounters_ma,how='outer',left_on='ID', right_on='PATIENT')\n",
    "merge.head()"
   ]
  },
  {
   "cell_type": "markdown",
   "metadata": {},
   "source": [
    "## Regression\n",
    "(45 minute estimate) \n",
    "\n",
    "(4. 15 points) First split your data into an 70% train and 30% validation.  Using linear regression analysis, use the `ENCOUNTERCLASS` to predict `COST` This is your naive model. Report R-Squared for both training and validation. \n",
    "\n",
    "*You need only do this for MA data*\n",
    "\n",
    "(4a. 5 points)  Breifly describe how your would do the task above.   \n",
    "\n",
    "(4b. 5 points)   Provide the code to perform the operations above. \n",
    "\n",
    "(4c. 5 points)  Provide an interpretation of your findings.  What does what you found in 4a mean?  If you couldn't get 2a to work what is the data likely to show. \n"
   ]
  },
  {
   "cell_type": "markdown",
   "metadata": {},
   "source": [
    "4a. (insert your answer)\n",
    "First, I import useful packages from sklearn. \n",
    "Second, make \"ENCOUNTERCLASS\" variable into a dummy variable. \n",
    "Third, apply train_test_split method to split data into an 70% train and 30% validation.\n",
    "Fourth, use linearegression to predict the cost."
   ]
  },
  {
   "cell_type": "code",
   "execution_count": 25,
   "metadata": {},
   "outputs": [],
   "source": [
    "#4b insert your code\n",
    "from sklearn.model_selection import train_test_split\n",
    "from sklearn.metrics import r2_score\n",
    "from sklearn.linear_model import LinearRegression\n",
    "\n",
    "x=pd.get_dummies(encounters_ma['ENCOUNTERCLASS'])\n",
    "y=encounters_ma['COST']\n",
    "train_x,test_x,train_y,test_y=train_test_split(x,y,test_size=0.3,random_state=20)"
   ]
  },
  {
   "cell_type": "code",
   "execution_count": 21,
   "metadata": {},
   "outputs": [
    {
     "name": "stdout",
     "output_type": "stream",
     "text": [
      "Train R square is 0.4346874141876428\n",
      "Test R square is 0.44339859422280004\n"
     ]
    }
   ],
   "source": [
    "from sklearn.linear_model import LinearRegression\n",
    "Lm = LinearRegression()\n",
    "Lm.fit(train_x,train_y)\n",
    "print('Train R square is', Lm.score(train_x,train_y))\n",
    "print('Test R square is', Lm.score(test_x,test_y))"
   ]
  },
  {
   "cell_type": "markdown",
   "metadata": {},
   "source": [
    "4c. (insert your answer)\n",
    "Interpretation: The R square for training is 0.435 and R square for test is 0.4434.Both R square are pretty low, meaning that this linear regression model performance is not good, at least not fit for this data set. "
   ]
  },
  {
   "cell_type": "markdown",
   "metadata": {},
   "source": [
    "## Predictive Modeling\n",
    "(45 minute estimate) \n",
    "\n",
    "(5. 15 points) Try and improve over your naive model.  This could include a variety of options.  You could include more data, different algorithm, etc.  *The data for cost wasn't as exciting as I hoped and you might get a really high R2 in your simple model. Try something different through or describe how you would.*\n",
    "\n",
    "(5a. 5 points)  Describe how you would improve the modeling.\n",
    "\n",
    "(5b. 5 points)   Provide the code to perform at least 1 improvement.  \n",
    "\n",
    "(5c. 5 points)  Provide an interpretation of your findings.  What does what you found in 5b mean?  If you couldn't get 5b to work what is the data likely to show. "
   ]
  },
  {
   "cell_type": "markdown",
   "metadata": {},
   "source": [
    "5a. (insert your answer)\n",
    "For improving Modeling, I decide to add more variable to test for the a new performance.\n",
    "Since\"ID\",\"START\",\"STOP\",\"PATIENT\",\"CODE\",\"REASONCODE\",\"REASONDESCRIPTION\" have little correlation with cost, the most possible variable related to cost is \"DESCRIPTION\",so I dicide to add this column in model."
   ]
  },
  {
   "cell_type": "code",
   "execution_count": 22,
   "metadata": {},
   "outputs": [
    {
     "name": "stdout",
     "output_type": "stream",
     "text": [
      "Train R square is 1.0\n",
      "Test R square is 0.9999996715807007\n"
     ]
    }
   ],
   "source": [
    "#5b\n",
    "x=pd.get_dummies(encounters_ma.loc[:,['ENCOUNTERCLASS','DESCRIPTION']])\n",
    "y=encounters_ma['COST']\n",
    "train_x,test_x,train_y,test_y=train_test_split(x,y,test_size=0.3,random_state=20)\n",
    "                                   \n",
    "Lm = LinearRegression()\n",
    "Lm.fit(train_x,train_y)\n",
    "print('Train R square is', Lm.score(train_x,train_y))\n",
    "print('Test R square is', Lm.score(test_x,test_y))"
   ]
  },
  {
   "cell_type": "markdown",
   "metadata": {},
   "source": [
    "5c. (insert your answer)\n",
    "The model's performance get too much better after adding \"DESCRIPTION\" column. The R square for traning dataset is 1 and for test data set is 0.9999997， meaning this model is extremely good and fit data very well.\n"
   ]
  },
  {
   "cell_type": "markdown",
   "metadata": {},
   "source": [
    "### Submission\n",
    "For the final submission, please both commit your code to Github and create a PDF and submit to LMS (this is where the final grading is done.)  \n",
    "\n",
    "Please don't spend more than three hours on it. You can take up to an hour of breaks during the process. "
   ]
  },
  {
   "cell_type": "code",
   "execution_count": null,
   "metadata": {
    "collapsed": true
   },
   "outputs": [],
   "source": []
  }
 ],
 "metadata": {
  "kernelspec": {
   "display_name": "Python 3",
   "language": "python",
   "name": "python3"
  },
  "language_info": {
   "codemirror_mode": {
    "name": "ipython",
    "version": 3
   },
   "file_extension": ".py",
   "mimetype": "text/x-python",
   "name": "python",
   "nbconvert_exporter": "python",
   "pygments_lexer": "ipython3",
   "version": "3.6.5"
  }
 },
 "nbformat": 4,
 "nbformat_minor": 2
}
