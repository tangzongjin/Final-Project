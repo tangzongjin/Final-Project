{
  "nbformat": 4,
  "nbformat_minor": 0,
  "metadata": {
    "colab": {
      "name": "Untitled4.ipynb",
      "provenance": []
    },
    "kernelspec": {
      "name": "python3",
      "display_name": "Python 3"
    }
  },
  "cells": [
    {
      "cell_type": "code",
      "metadata": {
        "id": "sP3JIoGTwb_0",
        "colab_type": "code",
        "colab": {}
      },
      "source": [
        "import pandas as pd\n",
        "url='https://github.com/tangzongjin/Final-Project/raw/master/train.csv'\n",
        "df1=pd.read_csv(url)"
      ],
      "execution_count": 0,
      "outputs": []
    }
  ]
}